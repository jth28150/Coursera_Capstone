{
 "cells": [
  {
   "cell_type": "markdown",
   "metadata": {},
   "source": [
    "FINAL PROJECT CAPSTONE\n",
    "\n",
    "I chose to confront myself with the following problem:\n",
    "\n",
    "In a city of your choice, if someone is looking to open a restaurant, where would you recommend that they open it? Similarly, if a contractor is trying to start their own business, where would you recommend that they setup their office.\n",
    "\n",
    "When a person starts a business, he needs visibility. That is, he needs his business to be seen by others, hence the importance of advertising. However, advertising is expensive and not everyone can afford it. Therefore, you must be in strategic locations in order to be seen by as many people as possible. In the case of a restaurant, it is therefore necessary to study which avenue or street is the most crowded during lunch and dinner hours. For a business such as an agency, it will therefore be necessary to check throughout the day, at strategic times. You will then have to make a list of the most popular avenues at these times. Of course, you cannot always open your business in the most popular street, which is the one you want because of two main criteria:\n",
    "\n",
    "1- The most popular streets are often the most expensive ones\n",
    "\n",
    "2- You have to find a rental on that street and affordable too.\n",
    "\n",
    "So, making a list will be perfect for someone who wants to start a business. This will allow them to search for a location, starting with the most popular street. Data Description : For this project, I will focus on Paris, the city where I live. In order to address this issue, I will simply make a list of the most popular places in the city of Paris. We will then be able to look for a location around its streets, which are very crowded.\n"
   ]
  },
  {
   "cell_type": "markdown",
   "metadata": {},
   "source": [
    "For this project, I will focus on Paris, the city where I live. In order to address this issue, I will simply make a list of the most popular places in the city of Paris. We will then be able to look for a location around its streets, which are very crowded."
   ]
  },
  {
   "cell_type": "markdown",
   "metadata": {},
   "source": [
    "Let's start by importing some libraries"
   ]
  },
  {
   "cell_type": "code",
   "execution_count": 1,
   "metadata": {},
   "outputs": [
    {
     "name": "stdout",
     "output_type": "stream",
     "text": [
      "Collecting package metadata (current_repodata.json): done\n",
      "Solving environment: done\n",
      "\n",
      "## Package Plan ##\n",
      "\n",
      "  environment location: /home/jupyterlab/conda/envs/python\n",
      "\n",
      "  added / updated specs:\n",
      "    - geopy\n",
      "\n",
      "\n",
      "The following packages will be downloaded:\n",
      "\n",
      "    package                    |            build\n",
      "    ---------------------------|-----------------\n",
      "    geographiclib-1.50         |             py_0          34 KB  conda-forge\n",
      "    geopy-1.22.0               |     pyh9f0ad1d_0          63 KB  conda-forge\n",
      "    ------------------------------------------------------------\n",
      "                                           Total:          97 KB\n",
      "\n",
      "The following NEW packages will be INSTALLED:\n",
      "\n",
      "  geographiclib      conda-forge/noarch::geographiclib-1.50-py_0\n",
      "  geopy              conda-forge/noarch::geopy-1.22.0-pyh9f0ad1d_0\n",
      "\n",
      "\n",
      "\n",
      "Downloading and Extracting Packages\n",
      "geopy-1.22.0         | 63 KB     | ##################################### | 100% \n",
      "geographiclib-1.50   | 34 KB     | ##################################### | 100% \n",
      "Preparing transaction: done\n",
      "Verifying transaction: done\n",
      "Executing transaction: done\n",
      "Collecting package metadata (current_repodata.json): done\n",
      "Solving environment: failed with initial frozen solve. Retrying with flexible solve.\n",
      "Collecting package metadata (repodata.json): done\n",
      "Solving environment: done\n",
      "\n",
      "## Package Plan ##\n",
      "\n",
      "  environment location: /home/jupyterlab/conda/envs/python\n",
      "\n",
      "  added / updated specs:\n",
      "    - folium=0.5.0\n",
      "\n",
      "\n",
      "The following packages will be downloaded:\n",
      "\n",
      "    package                    |            build\n",
      "    ---------------------------|-----------------\n",
      "    altair-4.1.0               |             py_1         614 KB  conda-forge\n",
      "    branca-0.4.1               |             py_0          26 KB  conda-forge\n",
      "    brotlipy-0.7.0             |py36h8c4c3a4_1000         346 KB  conda-forge\n",
      "    chardet-3.0.4              |py36h9f0ad1d_1006         188 KB  conda-forge\n",
      "    cryptography-2.9.2         |   py36h45558ae_0         613 KB  conda-forge\n",
      "    folium-0.5.0               |             py_0          45 KB  conda-forge\n",
      "    pandas-1.0.3               |   py36h830a2c2_1        11.1 MB  conda-forge\n",
      "    pysocks-1.7.1              |   py36h9f0ad1d_1          27 KB  conda-forge\n",
      "    toolz-0.10.0               |             py_0          46 KB  conda-forge\n",
      "    vincent-0.4.4              |             py_1          28 KB  conda-forge\n",
      "    ------------------------------------------------------------\n",
      "                                           Total:        13.0 MB\n",
      "\n",
      "The following NEW packages will be INSTALLED:\n",
      "\n",
      "  altair             conda-forge/noarch::altair-4.1.0-py_1\n",
      "  attrs              conda-forge/noarch::attrs-19.3.0-py_0\n",
      "  branca             conda-forge/noarch::branca-0.4.1-py_0\n",
      "  brotlipy           conda-forge/linux-64::brotlipy-0.7.0-py36h8c4c3a4_1000\n",
      "  chardet            conda-forge/linux-64::chardet-3.0.4-py36h9f0ad1d_1006\n",
      "  cryptography       conda-forge/linux-64::cryptography-2.9.2-py36h45558ae_0\n",
      "  entrypoints        conda-forge/linux-64::entrypoints-0.3-py36h9f0ad1d_1001\n",
      "  folium             conda-forge/noarch::folium-0.5.0-py_0\n",
      "  idna               conda-forge/noarch::idna-2.9-py_1\n",
      "  importlib_metadata conda-forge/noarch::importlib_metadata-1.6.0-0\n",
      "  jinja2             conda-forge/noarch::jinja2-2.11.2-pyh9f0ad1d_0\n",
      "  jsonschema         conda-forge/linux-64::jsonschema-3.2.0-py36h9f0ad1d_1\n",
      "  markupsafe         conda-forge/linux-64::markupsafe-1.1.1-py36h8c4c3a4_1\n",
      "  pandas             conda-forge/linux-64::pandas-1.0.3-py36h830a2c2_1\n",
      "  pyopenssl          conda-forge/noarch::pyopenssl-19.1.0-py_1\n",
      "  pyrsistent         conda-forge/linux-64::pyrsistent-0.16.0-py36h8c4c3a4_0\n",
      "  pysocks            conda-forge/linux-64::pysocks-1.7.1-py36h9f0ad1d_1\n",
      "  pytz               conda-forge/noarch::pytz-2020.1-pyh9f0ad1d_0\n",
      "  requests           conda-forge/noarch::requests-2.23.0-pyh8c360ce_2\n",
      "  toolz              conda-forge/noarch::toolz-0.10.0-py_0\n",
      "  urllib3            conda-forge/noarch::urllib3-1.25.9-py_0\n",
      "  vincent            conda-forge/noarch::vincent-0.4.4-py_1\n",
      "\n",
      "\n",
      "\n",
      "Downloading and Extracting Packages\n",
      "pysocks-1.7.1        | 27 KB     | ##################################### | 100% \n",
      "toolz-0.10.0         | 46 KB     | ##################################### | 100% \n",
      "chardet-3.0.4        | 188 KB    | ##################################### | 100% \n",
      "folium-0.5.0         | 45 KB     | ##################################### | 100% \n",
      "branca-0.4.1         | 26 KB     | ##################################### | 100% \n",
      "cryptography-2.9.2   | 613 KB    | ##################################### | 100% \n",
      "brotlipy-0.7.0       | 346 KB    | ##################################### | 100% \n",
      "pandas-1.0.3         | 11.1 MB   | ##################################### | 100% \n",
      "altair-4.1.0         | 614 KB    | ##################################### | 100% \n",
      "vincent-0.4.4        | 28 KB     | ##################################### | 100% \n",
      "Preparing transaction: done\n",
      "Verifying transaction: done\n",
      "Executing transaction: done\n",
      "Folium installed\n",
      "Libraries imported.\n"
     ]
    }
   ],
   "source": [
    "import requests # library to handle requests\n",
    "import pandas as pd # library for data analsysis\n",
    "import numpy as np # library to handle data in a vectorized manner\n",
    "\n",
    "!conda install -c conda-forge geopy --yes \n",
    "from geopy.geocoders import Nominatim # module to convert an address into latitude and longitude values\n",
    "\n",
    "# libraries for displaying images\n",
    "from IPython.display import Image \n",
    "from IPython.core.display import HTML \n",
    "    \n",
    "# tranforming json file into a pandas dataframe library\n",
    "from pandas.io.json import json_normalize\n",
    "\n",
    "!conda install -c conda-forge folium=0.5.0 --yes\n",
    "import folium # plotting library\n",
    "import requests\n",
    "\n",
    "print('Folium installed')\n",
    "print('Libraries imported.')"
   ]
  },
  {
   "cell_type": "markdown",
   "metadata": {},
   "source": [
    "Let's define a function that can extract the category of a venue, it will be useful later on."
   ]
  },
  {
   "cell_type": "code",
   "execution_count": 2,
   "metadata": {},
   "outputs": [],
   "source": [
    "# function that extracts the category of the venue\n",
    "def get_category_type(row):\n",
    "    try:\n",
    "        categories_list = row['categories']\n",
    "    except:\n",
    "        categories_list = row['venue.categories']\n",
    "        \n",
    "    if len(categories_list) == 0:\n",
    "        return None\n",
    "    else:\n",
    "        return categories_list[0]['name']"
   ]
  },
  {
   "cell_type": "markdown",
   "metadata": {},
   "source": [
    "To explore the venues in Paris, we need our Foursquare ID and secret. "
   ]
  },
  {
   "cell_type": "code",
   "execution_count": 3,
   "metadata": {},
   "outputs": [
    {
     "name": "stdout",
     "output_type": "stream",
     "text": [
      "Your credentails:\n",
      "CLIENT_ID: W5TWHZXTBRJ4SGEECYSONRS4KCXCOAOMQHEDWYMWSLPQ1EWO\n",
      "CLIENT_SECRET:4LIMGPMWXTMFOOUHGURSCAMHPIAYJHPUHTOS5WTI0JMRLVCE\n"
     ]
    }
   ],
   "source": [
    "CLIENT_ID = 'W5TWHZXTBRJ4SGEECYSONRS4KCXCOAOMQHEDWYMWSLPQ1EWO' # Foursquare ID\n",
    "CLIENT_SECRET = '4LIMGPMWXTMFOOUHGURSCAMHPIAYJHPUHTOS5WTI0JMRLVCE' # Foursquare Secret\n",
    "VERSION = '20180604'\n",
    "LIMIT = 30\n",
    "print('Your credentails:')\n",
    "print('CLIENT_ID: ' + CLIENT_ID)\n",
    "print('CLIENT_SECRET:' + CLIENT_SECRET)"
   ]
  },
  {
   "cell_type": "markdown",
   "metadata": {},
   "source": [
    "Now, I am getting the latitude and longitude of the city of Paris."
   ]
  },
  {
   "cell_type": "code",
   "execution_count": 4,
   "metadata": {},
   "outputs": [
    {
     "name": "stdout",
     "output_type": "stream",
     "text": [
      "48.8566969 2.3514616\n"
     ]
    }
   ],
   "source": [
    "address = 'Paris'\n",
    "\n",
    "geolocator = Nominatim(user_agent=\"foursquare_agent\")\n",
    "location = geolocator.geocode(address)\n",
    "latitude = location.latitude\n",
    "longitude = location.longitude\n",
    "print(latitude, longitude)"
   ]
  },
  {
   "cell_type": "markdown",
   "metadata": {},
   "source": [
    "Using this url will give me the popular spots in Paris, I chose the center of Paris \"Hôtel de Ville\" as reference.\n",
    "And I chose to get the popular spots in a radius of 2Km (can be modified)."
   ]
  },
  {
   "cell_type": "code",
   "execution_count": 5,
   "metadata": {},
   "outputs": [
    {
     "data": {
      "text/plain": [
       "{'reasons': {'count': 0,\n",
       "  'items': [{'summary': 'This spot is popular',\n",
       "    'type': 'general',\n",
       "    'reasonName': 'globalInteractionReason'}]},\n",
       " 'venue': {'id': '4adcda09f964a520e83321e3',\n",
       "  'name': 'Cathédrale Notre-Dame de Paris',\n",
       "  'location': {'address': '6 place du parvis Notre-Dame',\n",
       "   'crossStreet': 'Place Jean-Paul II',\n",
       "   'lat': 48.85312443201169,\n",
       "   'lng': 2.3495614528656006,\n",
       "   'labeledLatLngs': [{'label': 'display',\n",
       "     'lat': 48.85312443201169,\n",
       "     'lng': 2.3495614528656006}],\n",
       "   'distance': 421,\n",
       "   'postalCode': '75004',\n",
       "   'cc': 'FR',\n",
       "   'city': 'Paris',\n",
       "   'state': 'Île-de-France',\n",
       "   'country': 'France',\n",
       "   'formattedAddress': ['6 place du parvis Notre-Dame (Place Jean-Paul II)',\n",
       "    '75004 Paris',\n",
       "    'France']},\n",
       "  'categories': [{'id': '4bf58dd8d48988d132941735',\n",
       "    'name': 'Church',\n",
       "    'pluralName': 'Churches',\n",
       "    'shortName': 'Church',\n",
       "    'icon': {'prefix': 'https://ss3.4sqi.net/img/categories_v2/building/religious_church_',\n",
       "     'suffix': '.png'},\n",
       "    'primary': True}],\n",
       "  'photos': {'count': 0, 'groups': []}},\n",
       " 'referralId': 'e-0-4adcda09f964a520e83321e3-0'}"
      ]
     },
     "execution_count": 5,
     "metadata": {},
     "output_type": "execute_result"
    }
   ],
   "source": [
    "url = 'https://api.foursquare.com/v2/venues/explore?client_id={}&client_secret={}&ll={},{}&radius={}&v={}'.format(CLIENT_ID, CLIENT_SECRET, latitude, longitude, 20000, VERSION)\n",
    "\n",
    "# send GET request and get trending venues\n",
    "results = requests.get(url).json()\n",
    "items = results['response']['groups'][0]['items']\n",
    "items[0]"
   ]
  },
  {
   "cell_type": "markdown",
   "metadata": {},
   "source": [
    "Let's now reshape the data into a dataframe. "
   ]
  },
  {
   "cell_type": "code",
   "execution_count": 6,
   "metadata": {},
   "outputs": [
    {
     "name": "stderr",
     "output_type": "stream",
     "text": [
      "/home/jupyterlab/conda/envs/python/lib/python3.6/site-packages/ipykernel_launcher.py:1: FutureWarning: pandas.io.json.json_normalize is deprecated, use pandas.json_normalize instead\n",
      "  \"\"\"Entry point for launching an IPython kernel.\n"
     ]
    },
    {
     "data": {
      "text/html": [
       "<div>\n",
       "<style scoped>\n",
       "    .dataframe tbody tr th:only-of-type {\n",
       "        vertical-align: middle;\n",
       "    }\n",
       "\n",
       "    .dataframe tbody tr th {\n",
       "        vertical-align: top;\n",
       "    }\n",
       "\n",
       "    .dataframe thead th {\n",
       "        text-align: right;\n",
       "    }\n",
       "</style>\n",
       "<table border=\"1\" class=\"dataframe\">\n",
       "  <thead>\n",
       "    <tr style=\"text-align: right;\">\n",
       "      <th></th>\n",
       "      <th>name</th>\n",
       "      <th>categories</th>\n",
       "      <th>address</th>\n",
       "      <th>crossStreet</th>\n",
       "      <th>lat</th>\n",
       "      <th>lng</th>\n",
       "      <th>labeledLatLngs</th>\n",
       "      <th>distance</th>\n",
       "      <th>postalCode</th>\n",
       "      <th>cc</th>\n",
       "      <th>city</th>\n",
       "      <th>state</th>\n",
       "      <th>country</th>\n",
       "      <th>formattedAddress</th>\n",
       "      <th>neighborhood</th>\n",
       "      <th>id</th>\n",
       "    </tr>\n",
       "  </thead>\n",
       "  <tbody>\n",
       "    <tr>\n",
       "      <th>0</th>\n",
       "      <td>Cathédrale Notre-Dame de Paris</td>\n",
       "      <td>Church</td>\n",
       "      <td>6 place du parvis Notre-Dame</td>\n",
       "      <td>Place Jean-Paul II</td>\n",
       "      <td>48.853124</td>\n",
       "      <td>2.349561</td>\n",
       "      <td>[{'label': 'display', 'lat': 48.85312443201169...</td>\n",
       "      <td>421</td>\n",
       "      <td>75004</td>\n",
       "      <td>FR</td>\n",
       "      <td>Paris</td>\n",
       "      <td>Île-de-France</td>\n",
       "      <td>France</td>\n",
       "      <td>[6 place du parvis Notre-Dame (Place Jean-Paul...</td>\n",
       "      <td>NaN</td>\n",
       "      <td>4adcda09f964a520e83321e3</td>\n",
       "    </tr>\n",
       "    <tr>\n",
       "      <th>1</th>\n",
       "      <td>Shakespeare &amp; Company</td>\n",
       "      <td>Bookstore</td>\n",
       "      <td>37 rue de la Bûcherie</td>\n",
       "      <td>NaN</td>\n",
       "      <td>48.852568</td>\n",
       "      <td>2.347096</td>\n",
       "      <td>[{'label': 'display', 'lat': 48.85256839809226...</td>\n",
       "      <td>559</td>\n",
       "      <td>75005</td>\n",
       "      <td>FR</td>\n",
       "      <td>Paris</td>\n",
       "      <td>Île-de-France</td>\n",
       "      <td>France</td>\n",
       "      <td>[37 rue de la Bûcherie, 75005 Paris, France]</td>\n",
       "      <td>NaN</td>\n",
       "      <td>4adcda21f964a520f23921e3</td>\n",
       "    </tr>\n",
       "    <tr>\n",
       "      <th>2</th>\n",
       "      <td>Place de l'Hôtel de Ville – Esplanade de la Li...</td>\n",
       "      <td>Plaza</td>\n",
       "      <td>Place de l'Hôtel de Ville</td>\n",
       "      <td>NaN</td>\n",
       "      <td>48.856925</td>\n",
       "      <td>2.351412</td>\n",
       "      <td>NaN</td>\n",
       "      <td>25</td>\n",
       "      <td>75004</td>\n",
       "      <td>FR</td>\n",
       "      <td>Paris</td>\n",
       "      <td>Île-de-France</td>\n",
       "      <td>France</td>\n",
       "      <td>[Place de l'Hôtel de Ville, 75004 Paris, France]</td>\n",
       "      <td>NaN</td>\n",
       "      <td>4bf41231e5eba59334341f90</td>\n",
       "    </tr>\n",
       "    <tr>\n",
       "      <th>3</th>\n",
       "      <td>La Maison d'Isabelle</td>\n",
       "      <td>Bakery</td>\n",
       "      <td>47 ter boulevard Saint-Germain</td>\n",
       "      <td>NaN</td>\n",
       "      <td>48.850007</td>\n",
       "      <td>2.348443</td>\n",
       "      <td>[{'label': 'display', 'lat': 48.85000666698438...</td>\n",
       "      <td>776</td>\n",
       "      <td>75005</td>\n",
       "      <td>FR</td>\n",
       "      <td>Paris</td>\n",
       "      <td>Île-de-France</td>\n",
       "      <td>France</td>\n",
       "      <td>[47 ter boulevard Saint-Germain, 75005 Paris, ...</td>\n",
       "      <td>NaN</td>\n",
       "      <td>5b394cae92e7a9002c724cf9</td>\n",
       "    </tr>\n",
       "    <tr>\n",
       "      <th>4</th>\n",
       "      <td>Centre Pompidou – Musée National d'Art Moderne</td>\n",
       "      <td>Art Museum</td>\n",
       "      <td>Place Georges Pompidou</td>\n",
       "      <td>Rue Beaubourg</td>\n",
       "      <td>48.860730</td>\n",
       "      <td>2.351660</td>\n",
       "      <td>[{'label': 'display', 'lat': 48.86072970727395...</td>\n",
       "      <td>449</td>\n",
       "      <td>75004</td>\n",
       "      <td>FR</td>\n",
       "      <td>Paris</td>\n",
       "      <td>Île-de-France</td>\n",
       "      <td>France</td>\n",
       "      <td>[Place Georges Pompidou (Rue Beaubourg), 75004...</td>\n",
       "      <td>NaN</td>\n",
       "      <td>4adcda0af964a520623421e3</td>\n",
       "    </tr>\n",
       "  </tbody>\n",
       "</table>\n",
       "</div>"
      ],
      "text/plain": [
       "                                                name  categories  \\\n",
       "0                     Cathédrale Notre-Dame de Paris      Church   \n",
       "1                              Shakespeare & Company   Bookstore   \n",
       "2  Place de l'Hôtel de Ville – Esplanade de la Li...       Plaza   \n",
       "3                               La Maison d'Isabelle      Bakery   \n",
       "4     Centre Pompidou – Musée National d'Art Moderne  Art Museum   \n",
       "\n",
       "                          address         crossStreet        lat       lng  \\\n",
       "0    6 place du parvis Notre-Dame  Place Jean-Paul II  48.853124  2.349561   \n",
       "1           37 rue de la Bûcherie                 NaN  48.852568  2.347096   \n",
       "2       Place de l'Hôtel de Ville                 NaN  48.856925  2.351412   \n",
       "3  47 ter boulevard Saint-Germain                 NaN  48.850007  2.348443   \n",
       "4          Place Georges Pompidou       Rue Beaubourg  48.860730  2.351660   \n",
       "\n",
       "                                      labeledLatLngs  distance postalCode  cc  \\\n",
       "0  [{'label': 'display', 'lat': 48.85312443201169...       421      75004  FR   \n",
       "1  [{'label': 'display', 'lat': 48.85256839809226...       559      75005  FR   \n",
       "2                                                NaN        25      75004  FR   \n",
       "3  [{'label': 'display', 'lat': 48.85000666698438...       776      75005  FR   \n",
       "4  [{'label': 'display', 'lat': 48.86072970727395...       449      75004  FR   \n",
       "\n",
       "    city          state country  \\\n",
       "0  Paris  Île-de-France  France   \n",
       "1  Paris  Île-de-France  France   \n",
       "2  Paris  Île-de-France  France   \n",
       "3  Paris  Île-de-France  France   \n",
       "4  Paris  Île-de-France  France   \n",
       "\n",
       "                                    formattedAddress neighborhood  \\\n",
       "0  [6 place du parvis Notre-Dame (Place Jean-Paul...          NaN   \n",
       "1       [37 rue de la Bûcherie, 75005 Paris, France]          NaN   \n",
       "2   [Place de l'Hôtel de Ville, 75004 Paris, France]          NaN   \n",
       "3  [47 ter boulevard Saint-Germain, 75005 Paris, ...          NaN   \n",
       "4  [Place Georges Pompidou (Rue Beaubourg), 75004...          NaN   \n",
       "\n",
       "                         id  \n",
       "0  4adcda09f964a520e83321e3  \n",
       "1  4adcda21f964a520f23921e3  \n",
       "2  4bf41231e5eba59334341f90  \n",
       "3  5b394cae92e7a9002c724cf9  \n",
       "4  4adcda0af964a520623421e3  "
      ]
     },
     "execution_count": 6,
     "metadata": {},
     "output_type": "execute_result"
    }
   ],
   "source": [
    "dataframe = json_normalize(items) # flatten JSON\n",
    "\n",
    "# filter columns\n",
    "filtered_columns = ['venue.name', 'venue.categories'] + [col for col in dataframe.columns if col.startswith('venue.location.')] + ['venue.id']\n",
    "dataframe_filtered = dataframe.loc[:, filtered_columns]\n",
    "\n",
    "# filter the category for each row\n",
    "dataframe_filtered['venue.categories'] = dataframe_filtered.apply(get_category_type, axis=1)\n",
    "\n",
    "# clean columns\n",
    "dataframe_filtered.columns = [col.split('.')[-1] for col in dataframe_filtered.columns]\n",
    "\n",
    "dataframe_filtered.head()"
   ]
  },
  {
   "cell_type": "markdown",
   "metadata": {},
   "source": [
    "I sort the data and drop the columns that are not meaningful."
   ]
  },
  {
   "cell_type": "code",
   "execution_count": null,
   "metadata": {},
   "outputs": [],
   "source": [
    "dataframe_filtered.drop(['crossStreet', 'labeledLatLngs', 'distance', 'postalCode', 'cc', 'city', 'state', 'country', 'formattedAddress', 'neighborhood', 'id'], axis = 1, inplace = True)"
   ]
  },
  {
   "cell_type": "code",
   "execution_count": 118,
   "metadata": {},
   "outputs": [
    {
     "data": {
      "text/html": [
       "<div>\n",
       "<style scoped>\n",
       "    .dataframe tbody tr th:only-of-type {\n",
       "        vertical-align: middle;\n",
       "    }\n",
       "\n",
       "    .dataframe tbody tr th {\n",
       "        vertical-align: top;\n",
       "    }\n",
       "\n",
       "    .dataframe thead th {\n",
       "        text-align: right;\n",
       "    }\n",
       "</style>\n",
       "<table border=\"1\" class=\"dataframe\">\n",
       "  <thead>\n",
       "    <tr style=\"text-align: right;\">\n",
       "      <th></th>\n",
       "      <th>name</th>\n",
       "      <th>categories</th>\n",
       "      <th>address</th>\n",
       "      <th>lat</th>\n",
       "      <th>lng</th>\n",
       "    </tr>\n",
       "  </thead>\n",
       "  <tbody>\n",
       "    <tr>\n",
       "      <th>0</th>\n",
       "      <td>Cathédrale Notre-Dame de Paris</td>\n",
       "      <td>Church</td>\n",
       "      <td>6 place du parvis Notre-Dame</td>\n",
       "      <td>48.853124</td>\n",
       "      <td>2.349561</td>\n",
       "    </tr>\n",
       "    <tr>\n",
       "      <th>1</th>\n",
       "      <td>Shakespeare &amp; Company</td>\n",
       "      <td>Bookstore</td>\n",
       "      <td>37 rue de la Bûcherie</td>\n",
       "      <td>48.852568</td>\n",
       "      <td>2.347096</td>\n",
       "    </tr>\n",
       "    <tr>\n",
       "      <th>2</th>\n",
       "      <td>Place de l'Hôtel de Ville – Esplanade de la Li...</td>\n",
       "      <td>Plaza</td>\n",
       "      <td>Place de l'Hôtel de Ville</td>\n",
       "      <td>48.856925</td>\n",
       "      <td>2.351412</td>\n",
       "    </tr>\n",
       "    <tr>\n",
       "      <th>3</th>\n",
       "      <td>La Maison d'Isabelle</td>\n",
       "      <td>Bakery</td>\n",
       "      <td>47 ter boulevard Saint-Germain</td>\n",
       "      <td>48.850007</td>\n",
       "      <td>2.348443</td>\n",
       "    </tr>\n",
       "    <tr>\n",
       "      <th>4</th>\n",
       "      <td>Centre Pompidou – Musée National d'Art Moderne</td>\n",
       "      <td>Art Museum</td>\n",
       "      <td>Place Georges Pompidou</td>\n",
       "      <td>48.860730</td>\n",
       "      <td>2.351660</td>\n",
       "    </tr>\n",
       "  </tbody>\n",
       "</table>\n",
       "</div>"
      ],
      "text/plain": [
       "                                                name  categories  \\\n",
       "0                     Cathédrale Notre-Dame de Paris      Church   \n",
       "1                              Shakespeare & Company   Bookstore   \n",
       "2  Place de l'Hôtel de Ville – Esplanade de la Li...       Plaza   \n",
       "3                               La Maison d'Isabelle      Bakery   \n",
       "4     Centre Pompidou – Musée National d'Art Moderne  Art Museum   \n",
       "\n",
       "                          address        lat       lng  \n",
       "0    6 place du parvis Notre-Dame  48.853124  2.349561  \n",
       "1           37 rue de la Bûcherie  48.852568  2.347096  \n",
       "2       Place de l'Hôtel de Ville  48.856925  2.351412  \n",
       "3  47 ter boulevard Saint-Germain  48.850007  2.348443  \n",
       "4          Place Georges Pompidou  48.860730  2.351660  "
      ]
     },
     "execution_count": 118,
     "metadata": {},
     "output_type": "execute_result"
    }
   ],
   "source": [
    "dataframe_filtered.head()"
   ]
  },
  {
   "cell_type": "markdown",
   "metadata": {},
   "source": [
    "Let's now visualize these datas on a map."
   ]
  },
  {
   "cell_type": "code",
   "execution_count": 119,
   "metadata": {},
   "outputs": [
    {
     "name": "stdout",
     "output_type": "stream",
     "text": [
      "Collecting package metadata (current_repodata.json): done\n",
      "Solving environment: done\n",
      "\n",
      "# All requested packages already installed.\n",
      "\n",
      "Folium installed and imported!\n"
     ]
    }
   ],
   "source": [
    "!conda install -c conda-forge folium=0.5.0 --yes\n",
    "import folium\n",
    "\n",
    "print('Folium installed and imported!')"
   ]
  },
  {
   "cell_type": "markdown",
   "metadata": {},
   "source": [
    "I create a map centered around Paris"
   ]
  },
  {
   "cell_type": "code",
   "execution_count": 121,
   "metadata": {},
   "outputs": [
    {
     "data": {
      "text/html": [
       "<div style=\"width:100%;\"><div style=\"position:relative;width:100%;height:0;padding-bottom:60%;\"><span style=\"color:#565656\">Make this Notebook Trusted to load map: File -> Trust Notebook</span><iframe src=\"about:blank\" style=\"position:absolute;width:100%;height:100%;left:0;top:0;border:none !important;\" data-html=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 onload=\"this.contentDocument.open();this.contentDocument.write(atob(this.getAttribute('data-html')));this.contentDocument.close();\" allowfullscreen webkitallowfullscreen mozallowfullscreen></iframe></div></div>"
      ],
      "text/plain": [
       "<folium.folium.Map at 0x7fa50ba130f0>"
      ]
     },
     "execution_count": 121,
     "metadata": {},
     "output_type": "execute_result"
    }
   ],
   "source": [
    "# define the map centered around Paris\n",
    "paris_map = folium.Map(location=[latitude, longitude], zoom_start=13)\n",
    "\n",
    "# display paris map\n",
    "paris_map"
   ]
  },
  {
   "cell_type": "markdown",
   "metadata": {},
   "source": [
    "I add markers that indicate the location and pop-up that indicate the category of the popular spot. "
   ]
  },
  {
   "cell_type": "code",
   "execution_count": 122,
   "metadata": {},
   "outputs": [
    {
     "data": {
      "text/html": [
       "<div style=\"width:100%;\"><div style=\"position:relative;width:100%;height:0;padding-bottom:60%;\"><span style=\"color:#565656\">Make this Notebook Trusted to load map: File -> Trust Notebook</span><iframe src=\"about:blank\" style=\"position:absolute;width:100%;height:100%;left:0;top:0;border:none !important;\" data-html=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 onload=\"this.contentDocument.open();this.contentDocument.write(atob(this.getAttribute('data-html')));this.contentDocument.close();\" allowfullscreen webkitallowfullscreen mozallowfullscreen></iframe></div></div>"
      ],
      "text/plain": [
       "<folium.folium.Map at 0x7fa50ba130f0>"
      ]
     },
     "execution_count": 122,
     "metadata": {},
     "output_type": "execute_result"
    }
   ],
   "source": [
    "incidents = folium.map.FeatureGroup()\n",
    "\n",
    "# loop through the 100 crimes and add each to the incidents feature group\n",
    "for lat, lng, in zip(dataframe_filtered.lat, dataframe_filtered.lng):\n",
    "    incidents.add_child(\n",
    "        folium.features.CircleMarker(\n",
    "            [lat, lng],\n",
    "            radius=5, # define how big you want the circle markers to be\n",
    "            color='yellow',\n",
    "            fill=True,\n",
    "            fill_color='blue',\n",
    "            fill_opacity=0.6\n",
    "        )\n",
    "    )\n",
    "\n",
    "# add pop-up text to each marker on the map\n",
    "latitudes = list(dataframe_filtered.lat)\n",
    "longitudes = list(dataframe_filtered.lng)\n",
    "labels = list(dataframe_filtered.categories)\n",
    "\n",
    "for lat, lng, label in zip(latitudes, longitudes, labels):\n",
    "    folium.Marker([lat, lng], popup=label).add_to(paris_map)    \n",
    "    \n",
    "# add incidents to map\n",
    "paris_map.add_child(incidents)"
   ]
  },
  {
   "cell_type": "markdown",
   "metadata": {},
   "source": [
    "Now we have a dataframe with the most popular spot in a radius of 2Km of the center of Paris and a map that help us to visualize where these popular spots are located.\n",
    "As we want to help customers to know where they can open a new business or restaurant, they can easily get the information of the most popular spots in the dataframe but also have some idea of where it is located in Paris thanks to the map. "
   ]
  },
  {
   "cell_type": "markdown",
   "metadata": {},
   "source": [
    "Indeed, opening a new business/restaurant near a popular spot will give the owner some visibility."
   ]
  },
  {
   "cell_type": "code",
   "execution_count": null,
   "metadata": {},
   "outputs": [],
   "source": []
  }
 ],
 "metadata": {
  "kernelspec": {
   "display_name": "Python",
   "language": "python",
   "name": "conda-env-python-py"
  },
  "language_info": {
   "codemirror_mode": {
    "name": "ipython",
    "version": 3
   },
   "file_extension": ".py",
   "mimetype": "text/x-python",
   "name": "python",
   "nbconvert_exporter": "python",
   "pygments_lexer": "ipython3",
   "version": "3.6.10"
  }
 },
 "nbformat": 4,
 "nbformat_minor": 4
}
