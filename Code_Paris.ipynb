{
 "cells": [
  {
   "cell_type": "markdown",
   "metadata": {},
   "source": [
    "FINAL PROJECT CAPSTONE\n",
    "\n",
    "I chose to confront myself with the following problem:\n",
    "\n",
    "In a city of your choice, if someone is looking to open a restaurant, where would you recommend that they open it? Similarly, if a contractor is trying to start their own business, where would you recommend that they setup their office.\n",
    "\n",
    "When a person starts a business, he needs visibility. That is, he needs his business to be seen by others, hence the importance of advertising. However, advertising is expensive and not everyone can afford it. Therefore, you must be in strategic locations in order to be seen by as many people as possible. In the case of a restaurant, it is therefore necessary to study which avenue or street is the most crowded during lunch and dinner hours. For a business such as an agency, it will therefore be necessary to check throughout the day, at strategic times. You will then have to make a list of the most popular avenues at these times. Of course, you cannot always open your business in the most popular street, which is the one you want because of two main criteria:\n",
    "\n",
    "1- The most popular streets are often the most expensive ones\n",
    "\n",
    "2- You have to find a rental on that street and affordable too.\n",
    "\n",
    "So, making a list will be perfect for someone who wants to start a business. This will allow them to search for a location, starting with the most popular street. Data Description : For this project, I will focus on Paris, the city where I live. In order to address this issue, I will simply make a list of the most popular places in the city of Paris. We will then be able to look for a location around its streets, which are very crowded.\n"
   ]
  },
  {
   "cell_type": "markdown",
   "metadata": {},
   "source": [
    "For this project, I will focus on Paris, the city where I live. In order to address this issue, I will simply make a list of the most popular places in the city of Paris. We will then be able to look for a location around its streets, which are very crowded."
   ]
  },
  {
   "cell_type": "markdown",
   "metadata": {},
   "source": [
    "Let's start by importing some libraries"
   ]
  },
  {
   "cell_type": "code",
   "execution_count": 1,
   "metadata": {},
   "outputs": [
    {
     "name": "stdout",
     "output_type": "stream",
     "text": [
      "Collecting package metadata (current_repodata.json): done\n",
      "Solving environment: done\n",
      "\n",
      "## Package Plan ##\n",
      "\n",
      "  environment location: /home/jupyterlab/conda/envs/python\n",
      "\n",
      "  added / updated specs:\n",
      "    - geopy\n",
      "\n",
      "\n",
      "The following packages will be downloaded:\n",
      "\n",
      "    package                    |            build\n",
      "    ---------------------------|-----------------\n",
      "    geographiclib-1.50         |             py_0          34 KB  conda-forge\n",
      "    geopy-1.22.0               |     pyh9f0ad1d_0          63 KB  conda-forge\n",
      "    ------------------------------------------------------------\n",
      "                                           Total:          97 KB\n",
      "\n",
      "The following NEW packages will be INSTALLED:\n",
      "\n",
      "  geographiclib      conda-forge/noarch::geographiclib-1.50-py_0\n",
      "  geopy              conda-forge/noarch::geopy-1.22.0-pyh9f0ad1d_0\n",
      "\n",
      "\n",
      "\n",
      "Downloading and Extracting Packages\n",
      "geopy-1.22.0         | 63 KB     | ##################################### | 100% \n",
      "geographiclib-1.50   | 34 KB     | ##################################### | 100% \n",
      "Preparing transaction: done\n",
      "Verifying transaction: done\n",
      "Executing transaction: done\n",
      "Collecting package metadata (current_repodata.json): done\n",
      "Solving environment: failed with initial frozen solve. Retrying with flexible solve.\n",
      "Collecting package metadata (repodata.json): done\n",
      "Solving environment: done\n",
      "\n",
      "## Package Plan ##\n",
      "\n",
      "  environment location: /home/jupyterlab/conda/envs/python\n",
      "\n",
      "  added / updated specs:\n",
      "    - folium=0.5.0\n",
      "\n",
      "\n",
      "The following packages will be downloaded:\n",
      "\n",
      "    package                    |            build\n",
      "    ---------------------------|-----------------\n",
      "    altair-4.1.0               |             py_1         614 KB  conda-forge\n",
      "    branca-0.4.1               |             py_0          26 KB  conda-forge\n",
      "    brotlipy-0.7.0             |py36h8c4c3a4_1000         346 KB  conda-forge\n",
      "    chardet-3.0.4              |py36h9f0ad1d_1006         188 KB  conda-forge\n",
      "    cryptography-2.9.2         |   py36h45558ae_0         613 KB  conda-forge\n",
      "    folium-0.5.0               |             py_0          45 KB  conda-forge\n",
      "    pandas-1.0.3               |   py36h830a2c2_1        11.1 MB  conda-forge\n",
      "    pysocks-1.7.1              |   py36h9f0ad1d_1          27 KB  conda-forge\n",
      "    toolz-0.10.0               |             py_0          46 KB  conda-forge\n",
      "    vincent-0.4.4              |             py_1          28 KB  conda-forge\n",
      "    ------------------------------------------------------------\n",
      "                                           Total:        13.0 MB\n",
      "\n",
      "The following NEW packages will be INSTALLED:\n",
      "\n",
      "  altair             conda-forge/noarch::altair-4.1.0-py_1\n",
      "  attrs              conda-forge/noarch::attrs-19.3.0-py_0\n",
      "  branca             conda-forge/noarch::branca-0.4.1-py_0\n",
      "  brotlipy           conda-forge/linux-64::brotlipy-0.7.0-py36h8c4c3a4_1000\n",
      "  chardet            conda-forge/linux-64::chardet-3.0.4-py36h9f0ad1d_1006\n",
      "  cryptography       conda-forge/linux-64::cryptography-2.9.2-py36h45558ae_0\n",
      "  entrypoints        conda-forge/linux-64::entrypoints-0.3-py36h9f0ad1d_1001\n",
      "  folium             conda-forge/noarch::folium-0.5.0-py_0\n",
      "  idna               conda-forge/noarch::idna-2.9-py_1\n",
      "  importlib_metadata conda-forge/noarch::importlib_metadata-1.6.0-0\n",
      "  jinja2             conda-forge/noarch::jinja2-2.11.2-pyh9f0ad1d_0\n",
      "  jsonschema         conda-forge/linux-64::jsonschema-3.2.0-py36h9f0ad1d_1\n",
      "  markupsafe         conda-forge/linux-64::markupsafe-1.1.1-py36h8c4c3a4_1\n",
      "  pandas             conda-forge/linux-64::pandas-1.0.3-py36h830a2c2_1\n",
      "  pyopenssl          conda-forge/noarch::pyopenssl-19.1.0-py_1\n",
      "  pyrsistent         conda-forge/linux-64::pyrsistent-0.16.0-py36h8c4c3a4_0\n",
      "  pysocks            conda-forge/linux-64::pysocks-1.7.1-py36h9f0ad1d_1\n",
      "  pytz               conda-forge/noarch::pytz-2020.1-pyh9f0ad1d_0\n",
      "  requests           conda-forge/noarch::requests-2.23.0-pyh8c360ce_2\n",
      "  toolz              conda-forge/noarch::toolz-0.10.0-py_0\n",
      "  urllib3            conda-forge/noarch::urllib3-1.25.9-py_0\n",
      "  vincent            conda-forge/noarch::vincent-0.4.4-py_1\n",
      "\n",
      "\n",
      "\n",
      "Downloading and Extracting Packages\n",
      "pysocks-1.7.1        | 27 KB     | ##################################### | 100% \n",
      "toolz-0.10.0         | 46 KB     | ##################################### | 100% \n",
      "chardet-3.0.4        | 188 KB    | ##################################### | 100% \n",
      "folium-0.5.0         | 45 KB     | ##################################### | 100% \n",
      "branca-0.4.1         | 26 KB     | ##################################### | 100% \n",
      "cryptography-2.9.2   | 613 KB    | ##################################### | 100% \n",
      "brotlipy-0.7.0       | 346 KB    | ##################################### | 100% \n",
      "pandas-1.0.3         | 11.1 MB   | ##################################### | 100% \n",
      "altair-4.1.0         | 614 KB    | ##################################### | 100% \n",
      "vincent-0.4.4        | 28 KB     | ##################################### | 100% \n",
      "Preparing transaction: done\n",
      "Verifying transaction: done\n",
      "Executing transaction: done\n",
      "Folium installed\n",
      "Libraries imported.\n"
     ]
    }
   ],
   "source": [
    "import requests # library to handle requests\n",
    "import pandas as pd # library for data analsysis\n",
    "import numpy as np # library to handle data in a vectorized manner\n",
    "\n",
    "!conda install -c conda-forge geopy --yes \n",
    "from geopy.geocoders import Nominatim # module to convert an address into latitude and longitude values\n",
    "\n",
    "# libraries for displaying images\n",
    "from IPython.display import Image \n",
    "from IPython.core.display import HTML \n",
    "    \n",
    "# tranforming json file into a pandas dataframe library\n",
    "from pandas.io.json import json_normalize\n",
    "\n",
    "!conda install -c conda-forge folium=0.5.0 --yes\n",
    "import folium # plotting library\n",
    "import requests\n",
    "\n",
    "print('Folium installed')\n",
    "print('Libraries imported.')"
   ]
  },
  {
   "cell_type": "markdown",
   "metadata": {},
   "source": [
    "Let's define a function that can extract the category of a venue, it will be useful later on."
   ]
  },
  {
   "cell_type": "code",
   "execution_count": 2,
   "metadata": {},
   "outputs": [],
   "source": [
    "# function that extracts the category of the venue\n",
    "def get_category_type(row):\n",
    "    try:\n",
    "        categories_list = row['categories']\n",
    "    except:\n",
    "        categories_list = row['venue.categories']\n",
    "        \n",
    "    if len(categories_list) == 0:\n",
    "        return None\n",
    "    else:\n",
    "        return categories_list[0]['name']"
   ]
  },
  {
   "cell_type": "markdown",
   "metadata": {},
   "source": [
    "To explore the venues in Paris, we need our Foursquare ID and secret. "
   ]
  },
  {
   "cell_type": "code",
   "execution_count": 3,
   "metadata": {},
   "outputs": [
    {
     "name": "stdout",
     "output_type": "stream",
     "text": [
      "Your credentails:\n",
      "CLIENT_ID: W5TWHZXTBRJ4SGEECYSONRS4KCXCOAOMQHEDWYMWSLPQ1EWO\n",
      "CLIENT_SECRET:4LIMGPMWXTMFOOUHGURSCAMHPIAYJHPUHTOS5WTI0JMRLVCE\n"
     ]
    }
   ],
   "source": [
    "CLIENT_ID = 'W5TWHZXTBRJ4SGEECYSONRS4KCXCOAOMQHEDWYMWSLPQ1EWO' # Foursquare ID\n",
    "CLIENT_SECRET = '4LIMGPMWXTMFOOUHGURSCAMHPIAYJHPUHTOS5WTI0JMRLVCE' # Foursquare Secret\n",
    "VERSION = '20180604'\n",
    "LIMIT = 30\n",
    "print('Your credentails:')\n",
    "print('CLIENT_ID: ' + CLIENT_ID)\n",
    "print('CLIENT_SECRET:' + CLIENT_SECRET)"
   ]
  },
  {
   "cell_type": "markdown",
   "metadata": {},
   "source": [
    "Now, I am getting the latitude and longitude of the city of Paris."
   ]
  },
  {
   "cell_type": "code",
   "execution_count": 4,
   "metadata": {},
   "outputs": [
    {
     "name": "stdout",
     "output_type": "stream",
     "text": [
      "48.8566969 2.3514616\n"
     ]
    }
   ],
   "source": [
    "address = 'Paris'\n",
    "\n",
    "geolocator = Nominatim(user_agent=\"foursquare_agent\")\n",
    "location = geolocator.geocode(address)\n",
    "latitude = location.latitude\n",
    "longitude = location.longitude\n",
    "print(latitude, longitude)"
   ]
  },
  {
   "cell_type": "markdown",
   "metadata": {},
   "source": [
    "Using this url will give me the popular spots in Paris, I chose the center of Paris \"Hôtel de Ville\" as reference.\n",
    "And I chose to get the popular spots in a radius of 2Km (can be modified)."
   ]
  },
  {
   "cell_type": "code",
   "execution_count": 5,
   "metadata": {},
   "outputs": [
    {
     "data": {
      "text/plain": [
       "{'reasons': {'count': 0,\n",
       "  'items': [{'summary': 'This spot is popular',\n",
       "    'type': 'general',\n",
       "    'reasonName': 'globalInteractionReason'}]},\n",
       " 'venue': {'id': '4adcda09f964a520e83321e3',\n",
       "  'name': 'Cathédrale Notre-Dame de Paris',\n",
       "  'location': {'address': '6 place du parvis Notre-Dame',\n",
       "   'crossStreet': 'Place Jean-Paul II',\n",
       "   'lat': 48.85312443201169,\n",
       "   'lng': 2.3495614528656006,\n",
       "   'labeledLatLngs': [{'label': 'display',\n",
       "     'lat': 48.85312443201169,\n",
       "     'lng': 2.3495614528656006}],\n",
       "   'distance': 421,\n",
       "   'postalCode': '75004',\n",
       "   'cc': 'FR',\n",
       "   'city': 'Paris',\n",
       "   'state': 'Île-de-France',\n",
       "   'country': 'France',\n",
       "   'formattedAddress': ['6 place du parvis Notre-Dame (Place Jean-Paul II)',\n",
       "    '75004 Paris',\n",
       "    'France']},\n",
       "  'categories': [{'id': '4bf58dd8d48988d132941735',\n",
       "    'name': 'Church',\n",
       "    'pluralName': 'Churches',\n",
       "    'shortName': 'Church',\n",
       "    'icon': {'prefix': 'https://ss3.4sqi.net/img/categories_v2/building/religious_church_',\n",
       "     'suffix': '.png'},\n",
       "    'primary': True}],\n",
       "  'photos': {'count': 0, 'groups': []}},\n",
       " 'referralId': 'e-0-4adcda09f964a520e83321e3-0'}"
      ]
     },
     "execution_count": 5,
     "metadata": {},
     "output_type": "execute_result"
    }
   ],
   "source": [
    "url = 'https://api.foursquare.com/v2/venues/explore?client_id={}&client_secret={}&ll={},{}&radius={}&v={}'.format(CLIENT_ID, CLIENT_SECRET, latitude, longitude, 20000, VERSION)\n",
    "\n",
    "# send GET request and get trending venues\n",
    "results = requests.get(url).json()\n",
    "items = results['response']['groups'][0]['items']\n",
    "items[0]"
   ]
  },
  {
   "cell_type": "markdown",
   "metadata": {},
   "source": [
    "Let's now reshape the data into a dataframe. "
   ]
  },
  {
   "cell_type": "code",
   "execution_count": 6,
   "metadata": {},
   "outputs": [
    {
     "name": "stderr",
     "output_type": "stream",
     "text": [
      "/home/jupyterlab/conda/envs/python/lib/python3.6/site-packages/ipykernel_launcher.py:1: FutureWarning: pandas.io.json.json_normalize is deprecated, use pandas.json_normalize instead\n",
      "  \"\"\"Entry point for launching an IPython kernel.\n"
     ]
    },
    {
     "data": {
      "text/html": [
       "<div>\n",
       "<style scoped>\n",
       "    .dataframe tbody tr th:only-of-type {\n",
       "        vertical-align: middle;\n",
       "    }\n",
       "\n",
       "    .dataframe tbody tr th {\n",
       "        vertical-align: top;\n",
       "    }\n",
       "\n",
       "    .dataframe thead th {\n",
       "        text-align: right;\n",
       "    }\n",
       "</style>\n",
       "<table border=\"1\" class=\"dataframe\">\n",
       "  <thead>\n",
       "    <tr style=\"text-align: right;\">\n",
       "      <th></th>\n",
       "      <th>name</th>\n",
       "      <th>categories</th>\n",
       "      <th>address</th>\n",
       "      <th>crossStreet</th>\n",
       "      <th>lat</th>\n",
       "      <th>lng</th>\n",
       "      <th>labeledLatLngs</th>\n",
       "      <th>distance</th>\n",
       "      <th>postalCode</th>\n",
       "      <th>cc</th>\n",
       "      <th>city</th>\n",
       "      <th>state</th>\n",
       "      <th>country</th>\n",
       "      <th>formattedAddress</th>\n",
       "      <th>neighborhood</th>\n",
       "      <th>id</th>\n",
       "    </tr>\n",
       "  </thead>\n",
       "  <tbody>\n",
       "    <tr>\n",
       "      <th>0</th>\n",
       "      <td>Cathédrale Notre-Dame de Paris</td>\n",
       "      <td>Church</td>\n",
       "      <td>6 place du parvis Notre-Dame</td>\n",
       "      <td>Place Jean-Paul II</td>\n",
       "      <td>48.853124</td>\n",
       "      <td>2.349561</td>\n",
       "      <td>[{'label': 'display', 'lat': 48.85312443201169...</td>\n",
       "      <td>421</td>\n",
       "      <td>75004</td>\n",
       "      <td>FR</td>\n",
       "      <td>Paris</td>\n",
       "      <td>Île-de-France</td>\n",
       "      <td>France</td>\n",
       "      <td>[6 place du parvis Notre-Dame (Place Jean-Paul...</td>\n",
       "      <td>NaN</td>\n",
       "      <td>4adcda09f964a520e83321e3</td>\n",
       "    </tr>\n",
       "    <tr>\n",
       "      <th>1</th>\n",
       "      <td>Shakespeare &amp; Company</td>\n",
       "      <td>Bookstore</td>\n",
       "      <td>37 rue de la Bûcherie</td>\n",
       "      <td>NaN</td>\n",
       "      <td>48.852568</td>\n",
       "      <td>2.347096</td>\n",
       "      <td>[{'label': 'display', 'lat': 48.85256839809226...</td>\n",
       "      <td>559</td>\n",
       "      <td>75005</td>\n",
       "      <td>FR</td>\n",
       "      <td>Paris</td>\n",
       "      <td>Île-de-France</td>\n",
       "      <td>France</td>\n",
       "      <td>[37 rue de la Bûcherie, 75005 Paris, France]</td>\n",
       "      <td>NaN</td>\n",
       "      <td>4adcda21f964a520f23921e3</td>\n",
       "    </tr>\n",
       "    <tr>\n",
       "      <th>2</th>\n",
       "      <td>Place de l'Hôtel de Ville – Esplanade de la Li...</td>\n",
       "      <td>Plaza</td>\n",
       "      <td>Place de l'Hôtel de Ville</td>\n",
       "      <td>NaN</td>\n",
       "      <td>48.856925</td>\n",
       "      <td>2.351412</td>\n",
       "      <td>NaN</td>\n",
       "      <td>25</td>\n",
       "      <td>75004</td>\n",
       "      <td>FR</td>\n",
       "      <td>Paris</td>\n",
       "      <td>Île-de-France</td>\n",
       "      <td>France</td>\n",
       "      <td>[Place de l'Hôtel de Ville, 75004 Paris, France]</td>\n",
       "      <td>NaN</td>\n",
       "      <td>4bf41231e5eba59334341f90</td>\n",
       "    </tr>\n",
       "    <tr>\n",
       "      <th>3</th>\n",
       "      <td>La Maison d'Isabelle</td>\n",
       "      <td>Bakery</td>\n",
       "      <td>47 ter boulevard Saint-Germain</td>\n",
       "      <td>NaN</td>\n",
       "      <td>48.850007</td>\n",
       "      <td>2.348443</td>\n",
       "      <td>[{'label': 'display', 'lat': 48.85000666698438...</td>\n",
       "      <td>776</td>\n",
       "      <td>75005</td>\n",
       "      <td>FR</td>\n",
       "      <td>Paris</td>\n",
       "      <td>Île-de-France</td>\n",
       "      <td>France</td>\n",
       "      <td>[47 ter boulevard Saint-Germain, 75005 Paris, ...</td>\n",
       "      <td>NaN</td>\n",
       "      <td>5b394cae92e7a9002c724cf9</td>\n",
       "    </tr>\n",
       "    <tr>\n",
       "      <th>4</th>\n",
       "      <td>Centre Pompidou – Musée National d'Art Moderne</td>\n",
       "      <td>Art Museum</td>\n",
       "      <td>Place Georges Pompidou</td>\n",
       "      <td>Rue Beaubourg</td>\n",
       "      <td>48.860730</td>\n",
       "      <td>2.351660</td>\n",
       "      <td>[{'label': 'display', 'lat': 48.86072970727395...</td>\n",
       "      <td>449</td>\n",
       "      <td>75004</td>\n",
       "      <td>FR</td>\n",
       "      <td>Paris</td>\n",
       "      <td>Île-de-France</td>\n",
       "      <td>France</td>\n",
       "      <td>[Place Georges Pompidou (Rue Beaubourg), 75004...</td>\n",
       "      <td>NaN</td>\n",
       "      <td>4adcda0af964a520623421e3</td>\n",
       "    </tr>\n",
       "  </tbody>\n",
       "</table>\n",
       "</div>"
      ],
      "text/plain": [
       "                                                name  categories  \\\n",
       "0                     Cathédrale Notre-Dame de Paris      Church   \n",
       "1                              Shakespeare & Company   Bookstore   \n",
       "2  Place de l'Hôtel de Ville – Esplanade de la Li...       Plaza   \n",
       "3                               La Maison d'Isabelle      Bakery   \n",
       "4     Centre Pompidou – Musée National d'Art Moderne  Art Museum   \n",
       "\n",
       "                          address         crossStreet        lat       lng  \\\n",
       "0    6 place du parvis Notre-Dame  Place Jean-Paul II  48.853124  2.349561   \n",
       "1           37 rue de la Bûcherie                 NaN  48.852568  2.347096   \n",
       "2       Place de l'Hôtel de Ville                 NaN  48.856925  2.351412   \n",
       "3  47 ter boulevard Saint-Germain                 NaN  48.850007  2.348443   \n",
       "4          Place Georges Pompidou       Rue Beaubourg  48.860730  2.351660   \n",
       "\n",
       "                                      labeledLatLngs  distance postalCode  cc  \\\n",
       "0  [{'label': 'display', 'lat': 48.85312443201169...       421      75004  FR   \n",
       "1  [{'label': 'display', 'lat': 48.85256839809226...       559      75005  FR   \n",
       "2                                                NaN        25      75004  FR   \n",
       "3  [{'label': 'display', 'lat': 48.85000666698438...       776      75005  FR   \n",
       "4  [{'label': 'display', 'lat': 48.86072970727395...       449      75004  FR   \n",
       "\n",
       "    city          state country  \\\n",
       "0  Paris  Île-de-France  France   \n",
       "1  Paris  Île-de-France  France   \n",
       "2  Paris  Île-de-France  France   \n",
       "3  Paris  Île-de-France  France   \n",
       "4  Paris  Île-de-France  France   \n",
       "\n",
       "                                    formattedAddress neighborhood  \\\n",
       "0  [6 place du parvis Notre-Dame (Place Jean-Paul...          NaN   \n",
       "1       [37 rue de la Bûcherie, 75005 Paris, France]          NaN   \n",
       "2   [Place de l'Hôtel de Ville, 75004 Paris, France]          NaN   \n",
       "3  [47 ter boulevard Saint-Germain, 75005 Paris, ...          NaN   \n",
       "4  [Place Georges Pompidou (Rue Beaubourg), 75004...          NaN   \n",
       "\n",
       "                         id  \n",
       "0  4adcda09f964a520e83321e3  \n",
       "1  4adcda21f964a520f23921e3  \n",
       "2  4bf41231e5eba59334341f90  \n",
       "3  5b394cae92e7a9002c724cf9  \n",
       "4  4adcda0af964a520623421e3  "
      ]
     },
     "execution_count": 6,
     "metadata": {},
     "output_type": "execute_result"
    }
   ],
   "source": [
    "dataframe = json_normalize(items) # flatten JSON\n",
    "\n",
    "# filter columns\n",
    "filtered_columns = ['venue.name', 'venue.categories'] + [col for col in dataframe.columns if col.startswith('venue.location.')] + ['venue.id']\n",
    "dataframe_filtered = dataframe.loc[:, filtered_columns]\n",
    "\n",
    "# filter the category for each row\n",
    "dataframe_filtered['venue.categories'] = dataframe_filtered.apply(get_category_type, axis=1)\n",
    "\n",
    "# clean columns\n",
    "dataframe_filtered.columns = [col.split('.')[-1] for col in dataframe_filtered.columns]\n",
    "\n",
    "dataframe_filtered.head()"
   ]
  },
  {
   "cell_type": "markdown",
   "metadata": {},
   "source": [
    "I sort the data and drop the columns that are not meaningful."
   ]
  },
  {
   "cell_type": "code",
   "execution_count": 7,
   "metadata": {},
   "outputs": [],
   "source": [
    "dataframe_filtered.drop(['crossStreet', 'labeledLatLngs', 'distance', 'postalCode', 'cc', 'city', 'state', 'country', 'formattedAddress', 'neighborhood', 'id'], axis = 1, inplace = True)"
   ]
  },
  {
   "cell_type": "code",
   "execution_count": 8,
   "metadata": {},
   "outputs": [
    {
     "data": {
      "text/html": [
       "<div>\n",
       "<style scoped>\n",
       "    .dataframe tbody tr th:only-of-type {\n",
       "        vertical-align: middle;\n",
       "    }\n",
       "\n",
       "    .dataframe tbody tr th {\n",
       "        vertical-align: top;\n",
       "    }\n",
       "\n",
       "    .dataframe thead th {\n",
       "        text-align: right;\n",
       "    }\n",
       "</style>\n",
       "<table border=\"1\" class=\"dataframe\">\n",
       "  <thead>\n",
       "    <tr style=\"text-align: right;\">\n",
       "      <th></th>\n",
       "      <th>name</th>\n",
       "      <th>categories</th>\n",
       "      <th>address</th>\n",
       "      <th>lat</th>\n",
       "      <th>lng</th>\n",
       "    </tr>\n",
       "  </thead>\n",
       "  <tbody>\n",
       "    <tr>\n",
       "      <th>0</th>\n",
       "      <td>Cathédrale Notre-Dame de Paris</td>\n",
       "      <td>Church</td>\n",
       "      <td>6 place du parvis Notre-Dame</td>\n",
       "      <td>48.853124</td>\n",
       "      <td>2.349561</td>\n",
       "    </tr>\n",
       "    <tr>\n",
       "      <th>1</th>\n",
       "      <td>Shakespeare &amp; Company</td>\n",
       "      <td>Bookstore</td>\n",
       "      <td>37 rue de la Bûcherie</td>\n",
       "      <td>48.852568</td>\n",
       "      <td>2.347096</td>\n",
       "    </tr>\n",
       "    <tr>\n",
       "      <th>2</th>\n",
       "      <td>Place de l'Hôtel de Ville – Esplanade de la Li...</td>\n",
       "      <td>Plaza</td>\n",
       "      <td>Place de l'Hôtel de Ville</td>\n",
       "      <td>48.856925</td>\n",
       "      <td>2.351412</td>\n",
       "    </tr>\n",
       "    <tr>\n",
       "      <th>3</th>\n",
       "      <td>La Maison d'Isabelle</td>\n",
       "      <td>Bakery</td>\n",
       "      <td>47 ter boulevard Saint-Germain</td>\n",
       "      <td>48.850007</td>\n",
       "      <td>2.348443</td>\n",
       "    </tr>\n",
       "    <tr>\n",
       "      <th>4</th>\n",
       "      <td>Centre Pompidou – Musée National d'Art Moderne</td>\n",
       "      <td>Art Museum</td>\n",
       "      <td>Place Georges Pompidou</td>\n",
       "      <td>48.860730</td>\n",
       "      <td>2.351660</td>\n",
       "    </tr>\n",
       "  </tbody>\n",
       "</table>\n",
       "</div>"
      ],
      "text/plain": [
       "                                                name  categories  \\\n",
       "0                     Cathédrale Notre-Dame de Paris      Church   \n",
       "1                              Shakespeare & Company   Bookstore   \n",
       "2  Place de l'Hôtel de Ville – Esplanade de la Li...       Plaza   \n",
       "3                               La Maison d'Isabelle      Bakery   \n",
       "4     Centre Pompidou – Musée National d'Art Moderne  Art Museum   \n",
       "\n",
       "                          address        lat       lng  \n",
       "0    6 place du parvis Notre-Dame  48.853124  2.349561  \n",
       "1           37 rue de la Bûcherie  48.852568  2.347096  \n",
       "2       Place de l'Hôtel de Ville  48.856925  2.351412  \n",
       "3  47 ter boulevard Saint-Germain  48.850007  2.348443  \n",
       "4          Place Georges Pompidou  48.860730  2.351660  "
      ]
     },
     "execution_count": 8,
     "metadata": {},
     "output_type": "execute_result"
    }
   ],
   "source": [
    "dataframe_filtered.head()"
   ]
  },
  {
   "cell_type": "markdown",
   "metadata": {},
   "source": [
    "Let's now visualize these datas on a map."
   ]
  },
  {
   "cell_type": "code",
   "execution_count": 9,
   "metadata": {},
   "outputs": [
    {
     "name": "stdout",
     "output_type": "stream",
     "text": [
      "Collecting package metadata (current_repodata.json): done\n",
      "Solving environment: done\n",
      "\n",
      "# All requested packages already installed.\n",
      "\n",
      "Folium installed and imported!\n"
     ]
    }
   ],
   "source": [
    "!conda install -c conda-forge folium=0.5.0 --yes\n",
    "import folium\n",
    "\n",
    "print('Folium installed and imported!')"
   ]
  },
  {
   "cell_type": "markdown",
   "metadata": {},
   "source": [
    "I create a map centered around Paris"
   ]
  },
  {
   "cell_type": "code",
   "execution_count": 10,
   "metadata": {},
   "outputs": [
    {
     "data": {
      "text/html": [
       "<div style=\"width:100%;\"><div style=\"position:relative;width:100%;height:0;padding-bottom:60%;\"><span style=\"color:#565656\">Make this Notebook Trusted to load map: File -> Trust Notebook</span><iframe src=\"about:blank\" style=\"position:absolute;width:100%;height:100%;left:0;top:0;border:none !important;\" data-html=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 onload=\"this.contentDocument.open();this.contentDocument.write(atob(this.getAttribute('data-html')));this.contentDocument.close();\" allowfullscreen webkitallowfullscreen mozallowfullscreen></iframe></div></div>"
      ],
      "text/plain": [
       "<folium.folium.Map at 0x7f1be5430eb8>"
      ]
     },
     "execution_count": 10,
     "metadata": {},
     "output_type": "execute_result"
    }
   ],
   "source": [
    "# define the map centered around Paris\n",
    "paris_map = folium.Map(location=[latitude, longitude], zoom_start=13)\n",
    "\n",
    "# display paris map\n",
    "paris_map"
   ]
  },
  {
   "cell_type": "markdown",
   "metadata": {},
   "source": [
    "If you cannot see the map, here is a link of a photo of the map of Paris:\n",
    "https://github.com/jth28150/Coursera_Capstone/blob/master/map_paris.pdf"
   ]
  },
  {
   "cell_type": "markdown",
   "metadata": {},
   "source": [
    "I add markers that indicate the location and pop-up that indicate the category of the popular spot. "
   ]
  },
  {
   "cell_type": "code",
   "execution_count": 11,
   "metadata": {},
   "outputs": [
    {
     "data": {
      "text/html": [
       "<div style=\"width:100%;\"><div style=\"position:relative;width:100%;height:0;padding-bottom:60%;\"><span style=\"color:#565656\">Make this Notebook Trusted to load map: File -> Trust Notebook</span><iframe src=\"about:blank\" style=\"position:absolute;width:100%;height:100%;left:0;top:0;border:none !important;\" data-html=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 onload=\"this.contentDocument.open();this.contentDocument.write(atob(this.getAttribute('data-html')));this.contentDocument.close();\" allowfullscreen webkitallowfullscreen mozallowfullscreen></iframe></div></div>"
      ],
      "text/plain": [
       "<folium.folium.Map at 0x7f1be5430eb8>"
      ]
     },
     "execution_count": 11,
     "metadata": {},
     "output_type": "execute_result"
    }
   ],
   "source": [
    "incidents = folium.map.FeatureGroup()\n",
    "\n",
    "# loop through the 100 crimes and add each to the incidents feature group\n",
    "for lat, lng, in zip(dataframe_filtered.lat, dataframe_filtered.lng):\n",
    "    incidents.add_child(\n",
    "        folium.features.CircleMarker(\n",
    "            [lat, lng],\n",
    "            radius=5, # define how big you want the circle markers to be\n",
    "            color='yellow',\n",
    "            fill=True,\n",
    "            fill_color='blue',\n",
    "            fill_opacity=0.6\n",
    "        )\n",
    "    )\n",
    "\n",
    "# add pop-up text to each marker on the map\n",
    "latitudes = list(dataframe_filtered.lat)\n",
    "longitudes = list(dataframe_filtered.lng)\n",
    "labels = list(dataframe_filtered.categories)\n",
    "\n",
    "for lat, lng, label in zip(latitudes, longitudes, labels):\n",
    "    folium.Marker([lat, lng], popup=label).add_to(paris_map)    \n",
    "    \n",
    "# add incidents to map\n",
    "paris_map.add_child(incidents)"
   ]
  },
  {
   "cell_type": "markdown",
   "metadata": {},
   "source": [
    "Now we have a dataframe with the most popular spot in a radius of 2Km of the center of Paris and a map that help us to visualize where these popular spots are located.\n",
    "As we want to help customers to know where they can open a new business or restaurant, they can easily get the information of the most popular spots in the dataframe but also have some idea of where it is located in Paris thanks to the map. \n",
    "If you cannot see the map with markers, here is a link of a photo of it : https://github.com/jth28150/Coursera_Capstone/blob/master/Paris_map_markers.pdf"
   ]
  },
  {
   "cell_type": "markdown",
   "metadata": {},
   "source": [
    "Indeed, opening a new business/restaurant near a popular spot will give the owner some visibility."
   ]
  }
 ],
 "metadata": {
  "kernelspec": {
   "display_name": "Python",
   "language": "python",
   "name": "conda-env-python-py"
  },
  "language_info": {
   "codemirror_mode": {
    "name": "ipython",
    "version": 3
   },
   "file_extension": ".py",
   "mimetype": "text/x-python",
   "name": "python",
   "nbconvert_exporter": "python",
   "pygments_lexer": "ipython3",
   "version": "3.6.10"
  }
 },
 "nbformat": 4,
 "nbformat_minor": 4
}
