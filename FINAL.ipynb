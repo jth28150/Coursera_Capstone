{
  "nbformat": 4,
  "nbformat_minor": 0,
  "metadata": {
    "colab": {
      "name": "Untitled3.ipynb",
      "provenance": []
    },
    "kernelspec": {
      "name": "python3",
      "display_name": "Python 3"
    }
  },
  "cells": [
    {
      "cell_type": "markdown",
      "metadata": {
        "id": "A1HyPTIV6C5Q",
        "colab_type": "text"
      },
      "source": [
        "**FINAL PROJECT CAPSTONE**\n",
        "\n",
        "\n"
      ]
    },
    {
      "cell_type": "markdown",
      "metadata": {
        "id": "4LPOEurm59ZN",
        "colab_type": "text"
      },
      "source": [
        "I chose to confront myself with the following problem: \n",
        "\n",
        "In a city of your choice, if someone is looking to open a restaurant, where would you recommend that they open it? Similarly, if a contractor is trying to start their own business, where would you recommend that they setup their office.\n",
        "\n",
        "When a person starts a business, he needs visibility. That is, he needs his business to be seen by others, hence the importance of advertising. However, advertising is expensive and not everyone can afford it. \n",
        "Therefore, you must be in strategic locations in order to be seen by as many people as possible. \n",
        "In the case of a restaurant, it is therefore necessary to study which avenue or street is the most crowded during lunch and dinner hours.\n",
        "For a business such as an agency, it will therefore be necessary to check throughout the day, at strategic times. \n",
        "You will then have to make a list of the most popular avenues at these times. Of course, you cannot always open your business in the most popular street, which is the one you want because of two main criteria: \n",
        "\n",
        "1- The most popular streets are often the most expensive ones\n",
        "\n",
        "2- You have to find a rental on that street and affordable too.\n",
        "\n",
        "So, making a list will be perfect for someone who wants to start a business. This will allow them to search for a location, starting with the most popular street. \n",
        "Data Description :\n",
        "For this project, I will focus on Paris, the city where I live. \n",
        "In order to address this issue, I will simply make a list of the most popular places in the city of Paris. We will then be able to look for a location around its streets, which are very crowded. \n",
        "\n"
      ]
    },
    {
      "cell_type": "code",
      "metadata": {
        "id": "lE4NGDA86YMS",
        "colab_type": "code",
        "colab": {}
      },
      "source": [
        ""
      ],
      "execution_count": 0,
      "outputs": []
    }
  ]
}